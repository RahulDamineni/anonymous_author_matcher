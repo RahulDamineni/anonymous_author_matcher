{
 "cells": [
  {
   "cell_type": "markdown",
   "metadata": {},
   "source": [
    "## Dataset\n",
    "* Reddit comments from [pushshift.io](https://files.pushshift.io/reddit/comments/)\n",
    "* About 60k instances in the raw dataset from May & June, 2006"
   ]
  },
  {
   "cell_type": "markdown",
   "metadata": {},
   "source": []
  },
  {
   "cell_type": "code",
   "execution_count": 317,
   "metadata": {},
   "outputs": [],
   "source": [
    "import re\n",
    "import pathlib\n",
    "import pandas as pd\n",
    "import numpy as np\n",
    "import seaborn as sns\n",
    "import random\n",
    "import json"
   ]
  },
  {
   "cell_type": "code",
   "execution_count": 318,
   "metadata": {},
   "outputs": [],
   "source": [
    "DATA_DIR = pathlib.Path(\"./data\")\n",
    "\n",
    "may_reddit_comments_jsonl = DATA_DIR / \"RC_2006-05.jsonl\"\n",
    "jun_reddit_comments_jsonl = DATA_DIR / \"RC_2006-06.jsonl\"\n",
    "sept_reddit_comments_jsonl = DATA_DIR / \"RC_2006-09.jsonl\""
   ]
  },
  {
   "cell_type": "code",
   "execution_count": 319,
   "metadata": {},
   "outputs": [],
   "source": [
    "df = pd.read_json(\n",
    "    '\\n'.join([\n",
    "        may_reddit_comments_jsonl.read_text(),\n",
    "        jun_reddit_comments_jsonl.read_text()\n",
    "    ]),\n",
    "    lines=True\n",
    ")"
   ]
  },
  {
   "cell_type": "markdown",
   "metadata": {},
   "source": [
    "## Data preprocessing"
   ]
  },
  {
   "cell_type": "markdown",
   "metadata": {},
   "source": [
    "### Filter out non-English content and possibly spammy content"
   ]
  },
  {
   "cell_type": "code",
   "execution_count": 320,
   "metadata": {},
   "outputs": [],
   "source": [
    "# pl subreddit is about ~5% and should definitely be excluded.\n",
    "\n",
    "included_subreddits = [\n",
    "    \"reddit.com\",  # 92% of content\n",
    "    \"programming\"  # 6% of content\n",
    "]\n",
    "df = df[df.subreddit.apply(lambda sr: sr in included_subreddits)]  # Contains 97% of content"
   ]
  },
  {
   "cell_type": "markdown",
   "metadata": {},
   "source": [
    "### Filter out comments that are too short and too general & remove URLs"
   ]
  },
  {
   "cell_type": "code",
   "execution_count": 321,
   "metadata": {},
   "outputs": [
    {
     "name": "stdout",
     "output_type": "stream",
     "text": [
      "Reduced to approx. 35.72% of original content\n"
     ]
    }
   ],
   "source": [
    "def comment_content_filter(text):\n",
    "    if len(text) < 200:\n",
    "        return \"\"\n",
    "    # Remove URLs\n",
    "    url_regex = r'(http|ftp|https)://([\\w_-]+(?:(?:\\.[\\w_-]+)+))([\\w.,@?^=%&:/~+#-]*[\\w@?^=%&/~+#-])?'\n",
    "    text = re.sub(url_regex, '', text, flags=re.MULTILINE)\n",
    "    \n",
    "    return text\n",
    "\n",
    "filtered_comments = df.body.apply(comment_content_filter)\n",
    "df.body = filtered_comments\n",
    "df = df[df.body != \"\"]\n",
    "print(f'Reduced to approx. {(len(df)/len(filtered_comments))*100:.2f}% of original content')"
   ]
  },
  {
   "cell_type": "markdown",
   "metadata": {},
   "source": [
    "## Data analysis"
   ]
  },
  {
   "cell_type": "markdown",
   "metadata": {},
   "source": [
    "### Number of comments per author"
   ]
  },
  {
   "cell_type": "code",
   "execution_count": 322,
   "metadata": {},
   "outputs": [
    {
     "data": {
      "text/plain": [
       "[deleted]       2913\n",
       "mikepurvis       229\n",
       "Fountainhead     225\n",
       "nostrademons     195\n",
       "senzei           192\n",
       "                ... \n",
       "zekel              1\n",
       "mlgoss             1\n",
       "panzagl            1\n",
       "ejgottl            1\n",
       "bgraf              1\n",
       "Name: author, Length: 2165, dtype: int64"
      ]
     },
     "execution_count": 322,
     "metadata": {},
     "output_type": "execute_result"
    }
   ],
   "source": [
    "df.author.value_counts()"
   ]
  },
  {
   "cell_type": "code",
   "execution_count": 303,
   "metadata": {},
   "outputs": [
    {
     "data": {
      "text/plain": [
       "<matplotlib.axes._subplots.AxesSubplot at 0x1256529d0>"
      ]
     },
     "execution_count": 303,
     "metadata": {},
     "output_type": "execute_result"
    },
    {
     "data": {
      "image/png": "[encoded data removed]",
      "text/plain": [
       "<Figure size 432x288 with 1 Axes>"
      ]
     },
     "metadata": {
      "needs_background": "light"
     },
     "output_type": "display_data"
    }
   ],
   "source": [
    "sns.boxplot(df.author.value_counts(), showfliers=False)"
   ]
  },
  {
   "cell_type": "code",
   "execution_count": 304,
   "metadata": {},
   "outputs": [
    {
     "data": {
      "text/plain": [
       "340"
      ]
     },
     "execution_count": 304,
     "metadata": {},
     "output_type": "execute_result"
    }
   ],
   "source": [
    "sum(df.author.value_counts() > 10)  # Orignally 691"
   ]
  },
  {
   "cell_type": "code",
   "execution_count": 305,
   "metadata": {},
   "outputs": [
    {
     "data": {
      "text/plain": [
       "25"
      ]
     },
     "execution_count": 305,
     "metadata": {},
     "output_type": "execute_result"
    }
   ],
   "source": [
    "sum(df.author.value_counts() > 100)   # Originally 73"
   ]
  },
  {
   "cell_type": "markdown",
   "metadata": {},
   "source": [
    "## Dataset preparation"
   ]
  },
  {
   "cell_type": "markdown",
   "metadata": {},
   "source": [
    "### All authors criss-crossed –– Model has to truly learn the subtleties in the writing styles"
   ]
  },
  {
   "cell_type": "code",
   "execution_count": 325,
   "metadata": {},
   "outputs": [],
   "source": [
    "auth_counts = df.author.value_counts()\n",
    "selected_authors = auth_counts[auth_counts >= 100]\n",
    "selected_df = df[df.author.apply(lambda auth: auth in selected_authors.keys())]"
   ]
  },
  {
   "cell_type": "code",
   "execution_count": 326,
   "metadata": {},
   "outputs": [],
   "source": [
    "dataset = {}\n",
    "\n",
    "for auth, auth_df in selected_df.groupby(\"author\"):\n",
    "    dataset[auth] = auth_df.body.values.tolist()\n",
    "    \n",
    "del dataset[\"[deleted]\"]  # Inconsistent\n",
    "\n",
    "# Limit counts to 100 for each author\n",
    "balanced_dataset = {}\n",
    "for auth in dataset:\n",
    "    balanced_dataset[auth] = random.sample(dataset[auth], 100)\n",
    "    "
   ]
  },
  {
   "cell_type": "code",
   "execution_count": 327,
   "metadata": {},
   "outputs": [
    {
     "name": "stdout",
     "output_type": "stream",
     "text": [
      "#authors: 24 \t #samples/author: 100\n"
     ]
    }
   ],
   "source": [
    "print(f'#authors: {len(balanced_dataset)} \\t #samples/author: {len(balanced_dataset[\"Fountainhead\"])}')"
   ]
  },
  {
   "cell_type": "code",
   "execution_count": 328,
   "metadata": {},
   "outputs": [],
   "source": [
    "train_ds = {}\n",
    "eval_ds = {}\n",
    "test_ds = {}\n",
    "for auth, comments in balanced_dataset.items():\n",
    "    \n",
    "    train_ds[auth] = comments[:60]\n",
    "    eval_ds[auth] = comments[60:80]\n",
    "    test_ds[auth] = comments[80:]\n",
    "    \n",
    "with open(\"anon_auth_dataset.json\", \"w+\") as out:\n",
    "    json.dump(obj=[train_ds, eval_ds, test_ds], fp=out)"
   ]
  },
  {
   "cell_type": "markdown",
   "metadata": {},
   "source": [
    "### Simplified dataset with top two authors –– Model may remember idiosyncrasies in writing styles "
   ]
  },
  {
   "cell_type": "code",
   "execution_count": 330,
   "metadata": {},
   "outputs": [],
   "source": [
    "# Top two authors only!\n",
    "\n",
    "train_ds = {}\n",
    "eval_ds = {}\n",
    "test_ds = {}\n",
    "for auth, comments in dataset.items():\n",
    "    \n",
    "    train_ds[auth] = comments[:60]\n",
    "    eval_ds[auth] = comments[60:80]\n",
    "    test_ds[auth] = comments[80:]\n",
    "    \n",
    "    \n",
    "simplified_dataset = [\n",
    "    {\"mikepurvis\": train_ds[\"mikepurvis\"], \"Fountainhead\": train_ds[\"Fountainhead\"]},\n",
    "    {\"mikepurvis\": eval_ds[\"mikepurvis\"], \"Fountainhead\": eval_ds[\"Fountainhead\"]},\n",
    "    {\"mikepurvis\": test_ds[\"mikepurvis\"], \"Fountainhead\": test_ds[\"Fountainhead\"]},\n",
    "]\n",
    "    \n",
    "with open(\"anon_auth_dataset_simplified.json\", \"w+\") as out:\n",
    "    json.dump(obj=simplified_dataset, fp=out)"
   ]
  },
  {
   "cell_type": "code",
   "execution_count": null,
   "metadata": {},
   "outputs": [],
   "source": []
  }
 ],
 "metadata": {
  "kernelspec": {
   "display_name": "Python 3.7.3 64-bit",
   "language": "python",
   "name": "python37364bit2e16e028ce8b4007b970cece9146d16d"
  },
  "language_info": {
   "codemirror_mode": {
    "name": "ipython",
    "version": 3
   },
   "file_extension": ".py",
   "mimetype": "text/x-python",
   "name": "python",
   "nbconvert_exporter": "python",
   "pygments_lexer": "ipython3",
   "version": "3.7.7"
  },
  "toc": {
   "base_numbering": 1,
   "nav_menu": {},
   "number_sections": true,
   "sideBar": true,
   "skip_h1_title": false,
   "title_cell": "Table of Contents",
   "title_sidebar": "Contents",
   "toc_cell": false,
   "toc_position": {},
   "toc_section_display": true,
   "toc_window_display": false
  }
 },
 "nbformat": 4,
 "nbformat_minor": 4
}
