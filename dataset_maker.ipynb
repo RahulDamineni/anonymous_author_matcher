{
 "cells": [
  {
   "cell_type": "markdown",
   "metadata": {},
   "source": [
    "## Dataset\n",
    "* Reddit comments from [pushshift.io](https://files.pushshift.io/reddit/comments/)\n",
    "* About 60k instances in the raw dataset from May & June, 2006"
   ]
  },
  {
   "cell_type": "code",
   "execution_count": 79,
   "metadata": {},
   "outputs": [],
   "source": [
    "import pathlib\n",
    "import pandas as pd\n",
    "import numpy as np\n",
    "import seaborn as sns\n",
    "import random\n",
    "import json"
   ]
  },
  {
   "cell_type": "code",
   "execution_count": 2,
   "metadata": {},
   "outputs": [],
   "source": [
    "DATA_DIR = pathlib.Path(\"./data\")\n",
    "\n",
    "may_reddit_comments_jsonl = DATA_DIR / \"RC_2006-05.jsonl\"\n",
    "jun_reddit_comments_jsonl = DATA_DIR / \"RC_2006-06.jsonl\"\n",
    "sept_reddit_comments_jsonl = DATA_DIR / \"RC_2006-09.jsonl\""
   ]
  },
  {
   "cell_type": "code",
   "execution_count": 3,
   "metadata": {},
   "outputs": [],
   "source": [
    "df = pd.read_json(\n",
    "    '\\n'.join([\n",
    "        may_reddit_comments_jsonl.read_text(),\n",
    "        jun_reddit_comments_jsonl.read_text()\n",
    "    ]),\n",
    "    lines=True\n",
    ")"
   ]
  },
  {
   "cell_type": "markdown",
   "metadata": {},
   "source": [
    "### Number of comments per author"
   ]
  },
  {
   "cell_type": "code",
   "execution_count": 4,
   "metadata": {},
   "outputs": [
    {
     "data": {
      "text/plain": [
       "[deleted]       15294\n",
       "Fountainhead      417\n",
       "mikepurvis        365\n",
       "nostrademons      332\n",
       "Taladar           321\n",
       "                ...  \n",
       "bangalore           1\n",
       "aman                1\n",
       "RobertRapier        1\n",
       "jimbo345            1\n",
       "chip_12             1\n",
       "Name: author, Length: 4472, dtype: int64"
      ]
     },
     "execution_count": 4,
     "metadata": {},
     "output_type": "execute_result"
    }
   ],
   "source": [
    "df.author.value_counts()"
   ]
  },
  {
   "cell_type": "code",
   "execution_count": 5,
   "metadata": {},
   "outputs": [
    {
     "data": {
      "text/plain": [
       "<matplotlib.axes._subplots.AxesSubplot at 0x127866890>"
      ]
     },
     "execution_count": 5,
     "metadata": {},
     "output_type": "execute_result"
    },
    {
     "data": {
      "image/png": "[encoded data removed]",
      "text/plain": [
       "<Figure size 432x288 with 1 Axes>"
      ]
     },
     "metadata": {
      "needs_background": "light"
     },
     "output_type": "display_data"
    }
   ],
   "source": [
    "sns.boxplot(df.author.value_counts(), showfliers=False)"
   ]
  },
  {
   "cell_type": "code",
   "execution_count": 9,
   "metadata": {},
   "outputs": [
    {
     "data": {
      "text/plain": [
       "691"
      ]
     },
     "execution_count": 9,
     "metadata": {},
     "output_type": "execute_result"
    }
   ],
   "source": [
    "sum(df.author.value_counts() > 10)"
   ]
  },
  {
   "cell_type": "code",
   "execution_count": 58,
   "metadata": {},
   "outputs": [
    {
     "data": {
      "text/plain": [
       "73"
      ]
     },
     "execution_count": 58,
     "metadata": {},
     "output_type": "execute_result"
    }
   ],
   "source": [
    "sum(df.author.value_counts() > 100)"
   ]
  },
  {
   "cell_type": "code",
   "execution_count": 42,
   "metadata": {},
   "outputs": [],
   "source": [
    "auth_counts = df.author.value_counts()\n",
    "selected_authors = auth_counts[auth_counts >= 100]\n",
    "selected_df = df[df.author.apply(lambda auth: auth in selected_authors.keys())]"
   ]
  },
  {
   "cell_type": "code",
   "execution_count": 63,
   "metadata": {},
   "outputs": [],
   "source": [
    "dataset = {}\n",
    "\n",
    "for auth, auth_df in selected_df.groupby(\"author\"):\n",
    "    dataset[auth] = auth_df.body.values.tolist()\n",
    "    \n",
    "del dataset[\"[deleted]\"]  # Inconsistent\n",
    "\n",
    "# Limit counts to 100 for each author\n",
    "balanced_dataset = {}\n",
    "for auth in dataset:\n",
    "    balanced_dataset[auth] = random.sample(dataset[auth], 100)\n",
    "    "
   ]
  },
  {
   "cell_type": "code",
   "execution_count": 78,
   "metadata": {},
   "outputs": [
    {
     "name": "stdout",
     "output_type": "stream",
     "text": [
      "#authors: 73 \t #samples/author: 100\n"
     ]
    }
   ],
   "source": [
    "print(f'#authors: {len(balanced_dataset)} \\t #samples/author: {len(balanced_dataset[\"EliGottlieb\"])}')"
   ]
  },
  {
   "cell_type": "code",
   "execution_count": 81,
   "metadata": {},
   "outputs": [],
   "source": [
    "train_ds = {}\n",
    "eval_ds = {}\n",
    "test_ds = {}\n",
    "for auth, comments in balanced_dataset.items():\n",
    "    \n",
    "    train_ds[auth] = comments[:60]\n",
    "    eval_ds[auth] = comments[60:80]\n",
    "    test_ds[auth] = comments[80:]\n",
    "    \n",
    "with open(\"anon_auth_dataset.json\", \"w+\") as out:\n",
    "    json.dump(obj=[train_ds, eval_ds, test_ds], fp=out)"
   ]
  },
  {
   "cell_type": "code",
   "execution_count": null,
   "metadata": {},
   "outputs": [],
   "source": []
  }
 ],
 "metadata": {
  "kernelspec": {
   "display_name": "Python 3.7.3 64-bit",
   "language": "python",
   "name": "python37364bit2e16e028ce8b4007b970cece9146d16d"
  },
  "language_info": {
   "codemirror_mode": {
    "name": "ipython",
    "version": 3
   },
   "file_extension": ".py",
   "mimetype": "text/x-python",
   "name": "python",
   "nbconvert_exporter": "python",
   "pygments_lexer": "ipython3",
   "version": "3.7.7"
  },
  "toc": {
   "base_numbering": 1,
   "nav_menu": {},
   "number_sections": true,
   "sideBar": true,
   "skip_h1_title": false,
   "title_cell": "Table of Contents",
   "title_sidebar": "Contents",
   "toc_cell": false,
   "toc_position": {},
   "toc_section_display": true,
   "toc_window_display": false
  }
 },
 "nbformat": 4,
 "nbformat_minor": 4
}
